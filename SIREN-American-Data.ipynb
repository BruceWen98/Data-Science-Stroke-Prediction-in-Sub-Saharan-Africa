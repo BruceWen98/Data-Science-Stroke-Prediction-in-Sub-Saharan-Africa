{
 "cells": [
  {
   "cell_type": "code",
   "execution_count": 1,
   "metadata": {},
   "outputs": [
    {
     "ename": "ModuleNotFoundError",
     "evalue": "No module named 'pyreadstat'",
     "output_type": "error",
     "traceback": [
      "\u001b[1;31m---------------------------------------------------\u001b[0m",
      "\u001b[1;31mModuleNotFoundError\u001b[0mTraceback (most recent call last)",
      "\u001b[1;32m<ipython-input-1-d8838fd7aed6>\u001b[0m in \u001b[0;36m<module>\u001b[1;34m\u001b[0m\n\u001b[1;32m----> 1\u001b[1;33m \u001b[1;32mimport\u001b[0m \u001b[0mpyreadstat\u001b[0m\u001b[1;33m\u001b[0m\u001b[1;33m\u001b[0m\u001b[0m\n\u001b[0m\u001b[0;32m      2\u001b[0m \u001b[1;32mfrom\u001b[0m \u001b[0mdatascience\u001b[0m \u001b[1;32mimport\u001b[0m \u001b[1;33m*\u001b[0m\u001b[1;33m\u001b[0m\u001b[1;33m\u001b[0m\u001b[0m\n\u001b[0;32m      3\u001b[0m \u001b[1;32mimport\u001b[0m \u001b[0mpandas\u001b[0m \u001b[1;32mas\u001b[0m \u001b[0mpd\u001b[0m\u001b[1;33m\u001b[0m\u001b[1;33m\u001b[0m\u001b[0m\n\u001b[0;32m      4\u001b[0m \u001b[1;32mimport\u001b[0m \u001b[0mmath\u001b[0m\u001b[1;33m\u001b[0m\u001b[1;33m\u001b[0m\u001b[0m\n\u001b[0;32m      5\u001b[0m \u001b[1;32mfrom\u001b[0m \u001b[0msklearn\u001b[0m\u001b[1;33m.\u001b[0m\u001b[0mmodel_selection\u001b[0m \u001b[1;32mimport\u001b[0m \u001b[0mtrain_test_split\u001b[0m \u001b[1;32mas\u001b[0m \u001b[0mtts\u001b[0m\u001b[1;33m\u001b[0m\u001b[1;33m\u001b[0m\u001b[0m\n",
      "\u001b[1;31mModuleNotFoundError\u001b[0m: No module named 'pyreadstat'"
     ]
    }
   ],
   "source": [
    "import pyreadstat\n",
    "from datascience import *\n",
    "import pandas as pd \n",
    "import math\n",
    "from sklearn.model_selection import train_test_split as tts\n",
    "from sklearn.linear_model import LogisticRegression as lr\n",
    "from sklearn.metrics import confusion_matrix \n",
    "from sklearn.neural_network import MLPClassifier\n",
    "from sklearn import tree\n",
    "from sklearn.ensemble import RandomForestClassifier\n",
    "from sklearn.decomposition import PCA\n",
    "from sklearn import svm\n",
    "from sklearn import neighbors\n",
    "from sklearn.cluster import KMeans\n",
    "from sklearn.preprocessing import LabelEncoder\n",
    "from sklearn.preprocessing import MinMaxScaler\n",
    "from matplotlib.colors import ListedColormap\n",
    "import numpy as np \n",
    "import seaborn as sns\n",
    "import matplotlib.pyplot as plots\n",
    "%matplotlib inline\n",
    "from ipywidgets import interact, interactive, fixed, interact_manual\n",
    "from mpl_toolkits import mplot3d"
   ]
  },
  {
   "cell_type": "markdown",
   "metadata": {},
   "source": [
    "# US Data"
   ]
  },
  {
   "cell_type": "code",
   "execution_count": null,
   "metadata": {},
   "outputs": [],
   "source": [
    "#Importing data\n",
    "data_us = pd.read_csv(\"data_other.csv\")\n",
    "def df_interact(df):\n",
    "    '''\n",
    "    Outputs sliders that show rows and columns of df\n",
    "    '''\n",
    "    def peek(row=0, col=0):\n",
    "        return df.iloc[row:row + 7, col:col + 7]\n",
    "    interact(peek, row=(0, len(df), 7), col=(0, len(df.columns) - 7))\n",
    "    print('({} rows, {} columns) total'.format(df.shape[0], df.shape[1]))\n",
    "df_interact(data_us)"
   ]
  },
  {
   "cell_type": "code",
   "execution_count": null,
   "metadata": {},
   "outputs": [],
   "source": [
    "#Preparing data\n",
    "df_us = data_us.dropna()\n",
    "x_us = df_us[[\"gender\", \"age\", \"hypertension\", \\\n",
    "          \"heart_disease\", \"bmi\", \"smoking_status\"]]\n",
    "y_us = df_us[\"stroke\"]"
   ]
  },
  {
   "cell_type": "code",
   "execution_count": null,
   "metadata": {},
   "outputs": [],
   "source": [
    "#Logistic regression\n",
    "lst_us_lr = []\n",
    "\n",
    "for i in range(81):\n",
    "    x_train, x_test, y_train, y_test = tts(x_us, y_us, test_size=(i+10)/100, random_state=0)\n",
    "    logisticRegr = lr()\n",
    "    logisticRegr.fit(x_train, y_train)\n",
    "    z = logisticRegr.score(x_test, y_test)\n",
    "    lst_us_lr.append([(i+10)/100, z])\n",
    "\n",
    "lst_us_lr"
   ]
  },
  {
   "cell_type": "code",
   "execution_count": null,
   "metadata": {},
   "outputs": [],
   "source": [
    "#SVM\n",
    "lst_us_svm = []\n",
    "\n",
    "for i in range(81):\n",
    "    x_train, x_test, y_train, y_test = tts(x_us, y_us, test_size=(i+10)/100, random_state=0)\n",
    "    sv = svm.SVC()\n",
    "    sv.fit(x_train, y_train)\n",
    "    z = sv.score(x_test, y_test)\n",
    "    lst_us_svm.append([(i+10)/100, z])\n",
    "\n",
    "lst_us_svm"
   ]
  },
  {
   "cell_type": "code",
   "execution_count": null,
   "metadata": {},
   "outputs": [],
   "source": [
    "#Decision tree\n",
    "lst_us_dt = []\n",
    "\n",
    "for i in range(81):\n",
    "    x_train, x_test, y_train, y_test = tts(x_us, y_us, test_size=(i+10)/100, random_state=0)\n",
    "    tr = tree.DecisionTreeClassifier()\n",
    "    tr = tr.fit(x_train, y_train)\n",
    "    z = tr.score(x_test, y_test)\n",
    "    lst_us_dt.append([(i+10)/100, z])\n",
    "\n",
    "lst_us_dt"
   ]
  },
  {
   "cell_type": "code",
   "execution_count": null,
   "metadata": {},
   "outputs": [],
   "source": [
    "#Forests of randomized trees\n",
    "lst_us_rt = []\n",
    "\n",
    "for i in range(81):\n",
    "    x_train, x_test, y_train, y_test = tts(x_us, y_us, test_size=(i+10)/100, random_state=0)\n",
    "    rfc = RandomForestClassifier(n_estimators=100)\n",
    "    rfc = rfc.fit(x_train, y_train)\n",
    "    z = rfc.score(x_test, y_test)\n",
    "    lst_us_rt.append([(i+10)/100, z])\n",
    "\n",
    "lst_us_rt"
   ]
  },
  {
   "cell_type": "markdown",
   "metadata": {},
   "source": [
    "# SSH Data"
   ]
  },
  {
   "cell_type": "code",
   "execution_count": null,
   "metadata": {},
   "outputs": [],
   "source": [
    "data_ssh = pd.read_csv(\"SIREN_data_cleaned.csv\")\n",
    "df_interact(data_ssh)\n"
   ]
  },
  {
   "cell_type": "code",
   "execution_count": null,
   "metadata": {},
   "outputs": [],
   "source": [
    "x_ssh = data_ssh[[\"sex\", \"age\", \"htn\", \\\n",
    "          \"heart\", \"BMI\", \"life_tob\"]]\n",
    "y_ssh = data_ssh[\"case_control\"]"
   ]
  },
  {
   "cell_type": "code",
   "execution_count": null,
   "metadata": {},
   "outputs": [],
   "source": [
    "#Logistic regression\n",
    "lst_ssh_lr = []\n",
    "\n",
    "for i in range(80):\n",
    "    x_train, x_test, y_train, y_test = tts(x_ssh, y_ssh, test_size=(i+10)/100, random_state=0)\n",
    "    logisticRegr = lr()\n",
    "    logisticRegr.fit(x_train, y_train)\n",
    "    z = logisticRegr.score(x_test, y_test)\n",
    "    lst_ssh_lr.append([(i+10)/100, z])\n",
    "\n",
    "lst_ssh_lr"
   ]
  },
  {
   "cell_type": "code",
   "execution_count": null,
   "metadata": {},
   "outputs": [],
   "source": [
    "#SVM\n",
    "lst_ssh_svm = []\n",
    "\n",
    "for i in range(81):\n",
    "    x_train, x_test, y_train, y_test = tts(x_ssh, y_ssh, test_size=(i+10)/100, random_state=0)\n",
    "    sv = svm.SVC()\n",
    "    sv.fit(x_train, y_train)\n",
    "    z = sv.score(x_test, y_test)\n",
    "    lst_ssh_svm.append([(i+10)/100, z])\n",
    "\n",
    "lst_ssh_svm"
   ]
  },
  {
   "cell_type": "code",
   "execution_count": null,
   "metadata": {},
   "outputs": [],
   "source": [
    "#Decision tree\n",
    "lst_ssh_dt = []\n",
    "\n",
    "for i in range(81):\n",
    "    x_train, x_test, y_train, y_test = tts(x_ssh, y_ssh, test_size=(i+10)/100, random_state=0)\n",
    "    tr = tree.DecisionTreeClassifier()\n",
    "    tr = tr.fit(x_train, y_train)\n",
    "    z = tr.score(x_test, y_test)\n",
    "    lst_ssh_dt.append([(i+10)/100, z])\n",
    "\n",
    "lst_ssh_dt"
   ]
  },
  {
   "cell_type": "code",
   "execution_count": null,
   "metadata": {},
   "outputs": [],
   "source": [
    "#Forests of randomized trees\n",
    "lst_ssh_rt = []\n",
    "\n",
    "for i in range(81):\n",
    "    x_train, x_test, y_train, y_test = tts(x_ssh, y_ssh, test_size=(i+10)/100, random_state=0)\n",
    "    rfc = RandomForestClassifier(n_estimators=100)\n",
    "    rfc = rfc.fit(x_train, y_train)\n",
    "    z = rfc.score(x_test, y_test)\n",
    "    lst_ssh_rt.append([(i+10)/100, z])\n",
    "\n",
    "lst_ssh_rt"
   ]
  },
  {
   "cell_type": "code",
   "execution_count": null,
   "metadata": {},
   "outputs": [],
   "source": []
  }
 ],
 "metadata": {
  "kernelspec": {
   "display_name": "Python 3",
   "language": "python",
   "name": "python3"
  },
  "language_info": {
   "codemirror_mode": {
    "name": "ipython",
    "version": 3
   },
   "file_extension": ".py",
   "mimetype": "text/x-python",
   "name": "python",
   "nbconvert_exporter": "python",
   "pygments_lexer": "ipython3",
   "version": "3.7.4"
  }
 },
 "nbformat": 4,
 "nbformat_minor": 2
}
