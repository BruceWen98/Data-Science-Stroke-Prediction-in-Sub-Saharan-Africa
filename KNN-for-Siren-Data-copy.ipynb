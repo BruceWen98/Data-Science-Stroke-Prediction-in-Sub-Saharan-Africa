{
 "cells": [
  {
   "cell_type": "markdown",
   "metadata": {},
   "source": [
    "The KNN algorithm doesn't work well with high dimensional data because with large number of dimensions, it becomes difficult for the algorithm to calculate distance in each dimension.\n",
    "The KNN algorithm has a high prediction cost for large datasets. This is because in large datasets the cost of calculating distance between new point and each existing point becomes higher.\n",
    "Finally, the KNN algorithm doesn't work well with categorical features since it is difficult to find the distance between dimensions with categorical features."
   ]
  },
  {
   "cell_type": "code",
   "execution_count": 1,
   "metadata": {},
   "outputs": [],
   "source": [
    "from datascience import *\n",
    "import pandas as pd \n",
    "import sklearn as sk\n",
    "import numpy as np \n",
    "import seaborn as sns\n",
    "import matplotlib.pyplot as plots\n",
    "%matplotlib inline\n",
    "from ipywidgets import interact, interactive, fixed, interact_manual"
   ]
  },
  {
   "cell_type": "code",
   "execution_count": 2,
   "metadata": {},
   "outputs": [],
   "source": [
    "data = pd.read_csv(\"SIREN_data_cleaned.csv\")\n",
    "def df_interact(df):\n",
    "    '''\n",
    "    Outputs sliders that show rows and columns of df\n",
    "    '''\n",
    "    def peek(row=0, col=0):\n",
    "        return df.iloc[row:row + 7, col:col + 7]\n",
    "    interact(peek, row=(0, len(df), 7), col=(0, len(df.columns) - 7))\n",
    "    print('({} rows, {} columns) total'.format(df.shape[0], df.shape[1]))\n",
    "labels = data.columns.values"
   ]
  },
  {
   "cell_type": "code",
   "execution_count": 3,
   "metadata": {},
   "outputs": [
    {
     "data": {
      "text/html": [
       "<div>\n",
       "<style scoped>\n",
       "    .dataframe tbody tr th:only-of-type {\n",
       "        vertical-align: middle;\n",
       "    }\n",
       "\n",
       "    .dataframe tbody tr th {\n",
       "        vertical-align: top;\n",
       "    }\n",
       "\n",
       "    .dataframe thead th {\n",
       "        text-align: right;\n",
       "    }\n",
       "</style>\n",
       "<table border=\"1\" class=\"dataframe\">\n",
       "  <thead>\n",
       "    <tr style=\"text-align: right;\">\n",
       "      <th></th>\n",
       "      <th>case_control</th>\n",
       "      <th>age</th>\n",
       "      <th>sex</th>\n",
       "      <th>height</th>\n",
       "      <th>BMI</th>\n",
       "      <th>life_tob</th>\n",
       "      <th>life_alc</th>\n",
       "      <th>life_vegetarian</th>\n",
       "      <th>life_stim</th>\n",
       "      <th>life_cocaine</th>\n",
       "      <th>htn</th>\n",
       "      <th>dm</th>\n",
       "      <th>stroke</th>\n",
       "      <th>obesity</th>\n",
       "      <th>heart</th>\n",
       "      <th>sickle_cell</th>\n",
       "      <th>stress</th>\n",
       "      <th>depression</th>\n",
       "    </tr>\n",
       "  </thead>\n",
       "  <tbody>\n",
       "    <tr>\n",
       "      <td>0</td>\n",
       "      <td>0</td>\n",
       "      <td>71</td>\n",
       "      <td>1</td>\n",
       "      <td>162.0</td>\n",
       "      <td>25.148605</td>\n",
       "      <td>2</td>\n",
       "      <td>1</td>\n",
       "      <td>0</td>\n",
       "      <td>0</td>\n",
       "      <td>0</td>\n",
       "      <td>1</td>\n",
       "      <td>0</td>\n",
       "      <td>0</td>\n",
       "      <td>0</td>\n",
       "      <td>0</td>\n",
       "      <td>0</td>\n",
       "      <td>0</td>\n",
       "      <td>0</td>\n",
       "    </tr>\n",
       "    <tr>\n",
       "      <td>1</td>\n",
       "      <td>0</td>\n",
       "      <td>71</td>\n",
       "      <td>1</td>\n",
       "      <td>156.0</td>\n",
       "      <td>23.833005</td>\n",
       "      <td>2</td>\n",
       "      <td>1</td>\n",
       "      <td>0</td>\n",
       "      <td>0</td>\n",
       "      <td>0</td>\n",
       "      <td>0</td>\n",
       "      <td>0</td>\n",
       "      <td>0</td>\n",
       "      <td>0</td>\n",
       "      <td>0</td>\n",
       "      <td>0</td>\n",
       "      <td>0</td>\n",
       "      <td>0</td>\n",
       "    </tr>\n",
       "    <tr>\n",
       "      <td>2</td>\n",
       "      <td>0</td>\n",
       "      <td>40</td>\n",
       "      <td>1</td>\n",
       "      <td>168.0</td>\n",
       "      <td>23.030045</td>\n",
       "      <td>2</td>\n",
       "      <td>3</td>\n",
       "      <td>0</td>\n",
       "      <td>0</td>\n",
       "      <td>0</td>\n",
       "      <td>1</td>\n",
       "      <td>0</td>\n",
       "      <td>0</td>\n",
       "      <td>0</td>\n",
       "      <td>0</td>\n",
       "      <td>0</td>\n",
       "      <td>0</td>\n",
       "      <td>0</td>\n",
       "    </tr>\n",
       "    <tr>\n",
       "      <td>3</td>\n",
       "      <td>0</td>\n",
       "      <td>79</td>\n",
       "      <td>1</td>\n",
       "      <td>151.5</td>\n",
       "      <td>22.002200</td>\n",
       "      <td>2</td>\n",
       "      <td>4</td>\n",
       "      <td>0</td>\n",
       "      <td>0</td>\n",
       "      <td>0</td>\n",
       "      <td>0</td>\n",
       "      <td>0</td>\n",
       "      <td>0</td>\n",
       "      <td>0</td>\n",
       "      <td>0</td>\n",
       "      <td>0</td>\n",
       "      <td>1</td>\n",
       "      <td>1</td>\n",
       "    </tr>\n",
       "    <tr>\n",
       "      <td>4</td>\n",
       "      <td>0</td>\n",
       "      <td>62</td>\n",
       "      <td>1</td>\n",
       "      <td>170.0</td>\n",
       "      <td>21.626298</td>\n",
       "      <td>2</td>\n",
       "      <td>4</td>\n",
       "      <td>0</td>\n",
       "      <td>0</td>\n",
       "      <td>0</td>\n",
       "      <td>0</td>\n",
       "      <td>0</td>\n",
       "      <td>0</td>\n",
       "      <td>0</td>\n",
       "      <td>1</td>\n",
       "      <td>0</td>\n",
       "      <td>0</td>\n",
       "      <td>0</td>\n",
       "    </tr>\n",
       "    <tr>\n",
       "      <td>...</td>\n",
       "      <td>...</td>\n",
       "      <td>...</td>\n",
       "      <td>...</td>\n",
       "      <td>...</td>\n",
       "      <td>...</td>\n",
       "      <td>...</td>\n",
       "      <td>...</td>\n",
       "      <td>...</td>\n",
       "      <td>...</td>\n",
       "      <td>...</td>\n",
       "      <td>...</td>\n",
       "      <td>...</td>\n",
       "      <td>...</td>\n",
       "      <td>...</td>\n",
       "      <td>...</td>\n",
       "      <td>...</td>\n",
       "      <td>...</td>\n",
       "      <td>...</td>\n",
       "    </tr>\n",
       "    <tr>\n",
       "      <td>2837</td>\n",
       "      <td>1</td>\n",
       "      <td>75</td>\n",
       "      <td>2</td>\n",
       "      <td>158.0</td>\n",
       "      <td>26.077552</td>\n",
       "      <td>0</td>\n",
       "      <td>0</td>\n",
       "      <td>0</td>\n",
       "      <td>0</td>\n",
       "      <td>0</td>\n",
       "      <td>1</td>\n",
       "      <td>0</td>\n",
       "      <td>0</td>\n",
       "      <td>0</td>\n",
       "      <td>0</td>\n",
       "      <td>0</td>\n",
       "      <td>0</td>\n",
       "      <td>0</td>\n",
       "    </tr>\n",
       "    <tr>\n",
       "      <td>2838</td>\n",
       "      <td>1</td>\n",
       "      <td>62</td>\n",
       "      <td>1</td>\n",
       "      <td>162.0</td>\n",
       "      <td>19.852157</td>\n",
       "      <td>0</td>\n",
       "      <td>0</td>\n",
       "      <td>0</td>\n",
       "      <td>0</td>\n",
       "      <td>0</td>\n",
       "      <td>1</td>\n",
       "      <td>0</td>\n",
       "      <td>0</td>\n",
       "      <td>0</td>\n",
       "      <td>0</td>\n",
       "      <td>0</td>\n",
       "      <td>0</td>\n",
       "      <td>0</td>\n",
       "    </tr>\n",
       "    <tr>\n",
       "      <td>2839</td>\n",
       "      <td>1</td>\n",
       "      <td>53</td>\n",
       "      <td>1</td>\n",
       "      <td>187.0</td>\n",
       "      <td>28.596757</td>\n",
       "      <td>0</td>\n",
       "      <td>0</td>\n",
       "      <td>0</td>\n",
       "      <td>0</td>\n",
       "      <td>0</td>\n",
       "      <td>1</td>\n",
       "      <td>0</td>\n",
       "      <td>0</td>\n",
       "      <td>0</td>\n",
       "      <td>0</td>\n",
       "      <td>0</td>\n",
       "      <td>0</td>\n",
       "      <td>0</td>\n",
       "    </tr>\n",
       "    <tr>\n",
       "      <td>2840</td>\n",
       "      <td>1</td>\n",
       "      <td>42</td>\n",
       "      <td>2</td>\n",
       "      <td>168.0</td>\n",
       "      <td>20.549887</td>\n",
       "      <td>0</td>\n",
       "      <td>0</td>\n",
       "      <td>0</td>\n",
       "      <td>0</td>\n",
       "      <td>0</td>\n",
       "      <td>0</td>\n",
       "      <td>0</td>\n",
       "      <td>0</td>\n",
       "      <td>0</td>\n",
       "      <td>0</td>\n",
       "      <td>0</td>\n",
       "      <td>0</td>\n",
       "      <td>0</td>\n",
       "    </tr>\n",
       "    <tr>\n",
       "      <td>2841</td>\n",
       "      <td>1</td>\n",
       "      <td>85</td>\n",
       "      <td>1</td>\n",
       "      <td>172.0</td>\n",
       "      <td>23.526230</td>\n",
       "      <td>0</td>\n",
       "      <td>0</td>\n",
       "      <td>0</td>\n",
       "      <td>0</td>\n",
       "      <td>0</td>\n",
       "      <td>0</td>\n",
       "      <td>0</td>\n",
       "      <td>0</td>\n",
       "      <td>0</td>\n",
       "      <td>0</td>\n",
       "      <td>0</td>\n",
       "      <td>0</td>\n",
       "      <td>0</td>\n",
       "    </tr>\n",
       "  </tbody>\n",
       "</table>\n",
       "<p>2842 rows × 18 columns</p>\n",
       "</div>"
      ],
      "text/plain": [
       "      case_control  age  sex  height        BMI  life_tob  life_alc  \\\n",
       "0                0   71    1   162.0  25.148605         2         1   \n",
       "1                0   71    1   156.0  23.833005         2         1   \n",
       "2                0   40    1   168.0  23.030045         2         3   \n",
       "3                0   79    1   151.5  22.002200         2         4   \n",
       "4                0   62    1   170.0  21.626298         2         4   \n",
       "...            ...  ...  ...     ...        ...       ...       ...   \n",
       "2837             1   75    2   158.0  26.077552         0         0   \n",
       "2838             1   62    1   162.0  19.852157         0         0   \n",
       "2839             1   53    1   187.0  28.596757         0         0   \n",
       "2840             1   42    2   168.0  20.549887         0         0   \n",
       "2841             1   85    1   172.0  23.526230         0         0   \n",
       "\n",
       "      life_vegetarian  life_stim  life_cocaine  htn  dm  stroke  obesity  \\\n",
       "0                   0          0             0    1   0       0        0   \n",
       "1                   0          0             0    0   0       0        0   \n",
       "2                   0          0             0    1   0       0        0   \n",
       "3                   0          0             0    0   0       0        0   \n",
       "4                   0          0             0    0   0       0        0   \n",
       "...               ...        ...           ...  ...  ..     ...      ...   \n",
       "2837                0          0             0    1   0       0        0   \n",
       "2838                0          0             0    1   0       0        0   \n",
       "2839                0          0             0    1   0       0        0   \n",
       "2840                0          0             0    0   0       0        0   \n",
       "2841                0          0             0    0   0       0        0   \n",
       "\n",
       "      heart  sickle_cell  stress  depression  \n",
       "0         0            0       0           0  \n",
       "1         0            0       0           0  \n",
       "2         0            0       0           0  \n",
       "3         0            0       1           1  \n",
       "4         1            0       0           0  \n",
       "...     ...          ...     ...         ...  \n",
       "2837      0            0       0           0  \n",
       "2838      0            0       0           0  \n",
       "2839      0            0       0           0  \n",
       "2840      0            0       0           0  \n",
       "2841      0            0       0           0  \n",
       "\n",
       "[2842 rows x 18 columns]"
      ]
     },
     "execution_count": 3,
     "metadata": {},
     "output_type": "execute_result"
    }
   ],
   "source": [
    "data"
   ]
  },
  {
   "cell_type": "code",
   "execution_count": 5,
   "metadata": {},
   "outputs": [
    {
     "data": {
      "image/png": "[encoded data removed]",
      "text/plain": [
       "<Figure size 432x288 with 1 Axes>"
      ]
     },
     "metadata": {
      "needs_background": "light"
     },
     "output_type": "display_data"
    }
   ],
   "source": [
    "#Example Plot for Variables / CHECK IF 1 = Stroke\n",
    "plots.boxplot([data.htn[data.case_control == 1]\\\n",
    "             ,data.htn[data.case_control == 0]],\\\n",
    "           labels = ('Stroke', 'No Stroke'));"
   ]
  },
  {
   "cell_type": "code",
   "execution_count": 6,
   "metadata": {},
   "outputs": [
    {
     "data": {
      "text/plain": [
       "Text(0, 0.5, 'BMI')"
      ]
     },
     "execution_count": 6,
     "metadata": {},
     "output_type": "execute_result"
    },
    {
     "data": {
      "image/png": "[encoded data removed]",
      "text/plain": [
       "<Figure size 432x288 with 1 Axes>"
      ]
     },
     "metadata": {
      "needs_background": "light"
     },
     "output_type": "display_data"
    }
   ],
   "source": [
    "#PLEASE NOTE THAT THIS IS JUST AN EXAMPLE AND SHOULD PROBABLY BE WEIGHT AND NOT BMI\n",
    "\n",
    "plots.scatter(data[data.case_control==0]['height'],data[data.case_control==0]['BMI'],\n",
    "              color=\"red\",label=\"MPG 0\")\n",
    "plots.plot(data[data.case_control==1]['height'],data[data.case_control==1]['BMI'],\n",
    "           'bo',label=\"MPG 1\")\n",
    "plots.xlabel('Height')\n",
    "plots.ylabel('BMI')"
   ]
  },
  {
   "cell_type": "code",
   "execution_count": 7,
   "metadata": {},
   "outputs": [],
   "source": [
    "#Specifying variables we want and dropping rows with null values\n",
    "y_data = data[\"case_control\"]\n",
    "x_data = data.drop([\"case_control\"], axis=1)"
   ]
  },
  {
   "cell_type": "code",
   "execution_count": 13,
   "metadata": {},
   "outputs": [],
   "source": [
    "def standard_units(x):\n",
    "    \"Convert any array of numbers to standard units.\"\n",
    "    return (x - np.average(x))/np.std(x,ddof=1)  \n",
    "\n",
    "# construct a smaller data frame with Hemoglobin and Glucose standard units\n",
    "data_KNN=pd.DataFrame(\n",
    "        {\"height\": standard_units(data.height),\n",
    "         \"BMI\": standard_units(data.BMI),\n",
    "         \"age\": standard_units(data.age),\n",
    "        \"sex\": data.sex,\n",
    "         \"life_tob\" : data.life_tob,\n",
    "         \"life_vegetarian\" : data.life_vegetarian,\n",
    "         \"life_stim\" : data.life_stim,\n",
    "         \"life_cocaine\" : data.life_cocaine,\n",
    "         \"obesity\" : data.obesity,\n",
    "         \"heart\" : data.heart,\n",
    "         \"sickle_cell\" : data[\"sickle_cell\"],\n",
    "         \"depression\" : data.depression,\n",
    "        \"htn\": data.htn,\n",
    "         \"stroke\": data.stroke,\n",
    "         \"dm\" : data.dm,\n",
    "         \"stress\" :data.stress,\n",
    "        \"case_control\": data.case_control})"
   ]
  },
  {
   "cell_type": "code",
   "execution_count": 14,
   "metadata": {},
   "outputs": [],
   "source": [
    "import numpy as np\n",
    "import pandas as pd\n",
    "from matplotlib import pyplot as plt\n",
    "from sklearn.datasets import load_breast_cancer\n",
    "from sklearn.metrics import confusion_matrix\n",
    "from sklearn.neighbors import KNeighborsClassifier\n",
    "from sklearn.model_selection import train_test_split\n",
    "import seaborn as sns\n",
    "sns.set()\n",
    "from sklearn.metrics import accuracy_score"
   ]
  },
  {
   "cell_type": "code",
   "execution_count": 15,
   "metadata": {},
   "outputs": [
    {
     "name": "stdout",
     "output_type": "stream",
     "text": [
      "[[348  77]\n",
      " [147 139]]\n"
     ]
    },
    {
     "data": {
      "text/plain": [
       "0.6849507735583685"
      ]
     },
     "execution_count": 15,
     "metadata": {},
     "output_type": "execute_result"
    }
   ],
   "source": [
    "X = data_KNN[['height', 'htn', 'stroke', 'dm', 'stress']]\n",
    "y = data_KNN[\"case_control\"]\n",
    "#y = pd.Categorical.from_codes(data_KNN_prediction.case_control)\n",
    "#y = pd.get_dummies(y, drop_first=True)\n",
    "\n",
    "X_train, X_test, y_train, y_test = train_test_split(X, y, random_state=1)\n",
    "\n",
    "knn = KNeighborsClassifier(n_neighbors=5, metric='euclidean')\n",
    "knn.fit(X_train, y_train)\n",
    "\n",
    "y_pred = knn.predict(X_test)\n",
    "\n",
    "cf_matrix = confusion_matrix(y_test, y_pred)\n",
    "print(cf_matrix)\n",
    "\n",
    "accuracy_score(y_test, y_pred)\n"
   ]
  },
  {
   "cell_type": "code",
   "execution_count": 16,
   "metadata": {},
   "outputs": [
    {
     "name": "stdout",
     "output_type": "stream",
     "text": [
      "[[345  80]\n",
      " [142 144]]\n"
     ]
    },
    {
     "data": {
      "text/plain": [
       "0.6877637130801688"
      ]
     },
     "execution_count": 16,
     "metadata": {},
     "output_type": "execute_result"
    }
   ],
   "source": [
    "X2 = data_KNN[['height', 'htn', 'stroke', 'dm', 'stress', 'obesity']]\n",
    "y2 = data_KNN[\"case_control\"]\n",
    "#y = pd.Categorical.from_codes(data_KNN_prediction.case_control)\n",
    "#y = pd.get_dummies(y, drop_first=True)\n",
    "\n",
    "X_train2, X_test2, y_train2, y_test2 = train_test_split(X2, y2, random_state=1)\n",
    "\n",
    "knn2 = KNeighborsClassifier(n_neighbors=5, metric='euclidean')\n",
    "knn2.fit(X_train2, y_train2)\n",
    "\n",
    "y_pred2 = knn2.predict(X_test2)\n",
    "\n",
    "cf_matrix2 = confusion_matrix(y_test2, y_pred2)\n",
    "cf_matrix2\n",
    "\n",
    "print(cf_matrix2)\n",
    "\n",
    "accuracy_score(y_test2, y_pred2)"
   ]
  },
  {
   "cell_type": "code",
   "execution_count": null,
   "metadata": {},
   "outputs": [],
   "source": [
    "X3 = data_KNN[['height', 'htn', 'stroke', 'dm', 'stress', 'obesity', 'life_tob']]\n",
    "y3 = data_KNN[\"case_control\"]\n",
    "#y = pd.Categorical.from_codes(data_KNN_prediction.case_control)\n",
    "#y = pd.get_dummies(y, drop_first=True)\n",
    "\n",
    "X_train3, X_test3, y_train3, y_test3 = train_test_split(X3, y3, random_state=1)\n",
    "\n",
    "knn3 = KNeighborsClassifier(n_neighbors=5, metric='euclidean')\n",
    "knn3.fit(X_train3, y_train3)\n",
    "\n",
    "y_pred3 = knn3.predict(X_test3)\n",
    "\n",
    "cf_matrix3 = confusion_matrix(y_test3, y_pred3)\n",
    "cf_matrix3\n",
    "\n",
    "print(cf_matrix3)\n",
    "\n",
    "accuracy_score(y_test3, y_pred3)"
   ]
  },
  {
   "cell_type": "code",
   "execution_count": 17,
   "metadata": {},
   "outputs": [
    {
     "name": "stdout",
     "output_type": "stream",
     "text": [
      "[[336  89]\n",
      " [126 160]]\n"
     ]
    },
    {
     "data": {
      "text/plain": [
       "0.6976090014064698"
      ]
     },
     "execution_count": 17,
     "metadata": {},
     "output_type": "execute_result"
    }
   ],
   "source": [
    "X4 = data_KNN[['height', 'htn', 'stroke', 'dm', 'stress', 'obesity', 'life_tob', 'heart']]\n",
    "y4 = data_KNN[\"case_control\"]\n",
    "#y = pd.Categorical.from_codes(data_KNN_prediction.case_control)\n",
    "#y = pd.get_dummies(y, drop_first=True)\n",
    "\n",
    "X_train4, X_test4, y_train4, y_test4 = train_test_split(X4, y4, random_state=1)\n",
    "\n",
    "knn4 = KNeighborsClassifier(n_neighbors=3, metric='euclidean')\n",
    "knn4.fit(X_train4, y_train4)\n",
    "\n",
    "y_pred4 = knn4.predict(X_test4)\n",
    "\n",
    "cf_matrix4 = confusion_matrix(y_test4, y_pred4)\n",
    "cf_matrix4\n",
    "\n",
    "print(cf_matrix4)\n",
    "\n",
    "accuracy_score(y_test4, y_pred4)"
   ]
  },
  {
   "cell_type": "code",
   "execution_count": 18,
   "metadata": {},
   "outputs": [
    {
     "name": "stdout",
     "output_type": "stream",
     "text": [
      "[[347  78]\n",
      " [135 151]]\n"
     ]
    },
    {
     "data": {
      "text/plain": [
       "0.70042194092827"
      ]
     },
     "execution_count": 18,
     "metadata": {},
     "output_type": "execute_result"
    }
   ],
   "source": [
    "#Changing the Number of Neighbors\n",
    "\n",
    "X4 = data_KNN[['height', 'htn', 'stroke', 'dm', 'stress', 'obesity', 'life_tob', 'heart']]\n",
    "y4 = data_KNN[\"case_control\"]\n",
    "#y = pd.Categorical.from_codes(data_KNN_prediction.case_control)\n",
    "#y = pd.get_dummies(y, drop_first=True)\n",
    "\n",
    "X_train4, X_test4, y_train4, y_test4 = train_test_split(X4, y4, random_state=1)\n",
    "\n",
    "knn4 = KNeighborsClassifier(n_neighbors=5, metric='euclidean')\n",
    "knn4.fit(X_train4, y_train4)\n",
    "\n",
    "y_pred4 = knn4.predict(X_test4)\n",
    "\n",
    "cf_matrix4 = confusion_matrix(y_test4, y_pred4)\n",
    "cf_matrix4\n",
    "\n",
    "print(cf_matrix4)\n",
    "\n",
    "accuracy_score(y_test4, y_pred4)"
   ]
  },
  {
   "cell_type": "code",
   "execution_count": 19,
   "metadata": {},
   "outputs": [
    {
     "name": "stdout",
     "output_type": "stream",
     "text": [
      "[[332  93]\n",
      " [135 151]]\n"
     ]
    },
    {
     "data": {
      "text/plain": [
       "0.679324894514768"
      ]
     },
     "execution_count": 19,
     "metadata": {},
     "output_type": "execute_result"
    }
   ],
   "source": [
    "X5 = data_KNN[['height', 'htn', 'stroke', 'dm', 'stress', 'obesity', 'life_tob', 'heart', 'age']]\n",
    "y5 = data_KNN[\"case_control\"]\n",
    "#y = pd.Categorical.from_codes(data_KNN_prediction.case_control)\n",
    "#y = pd.get_dummies(y, drop_first=True)\n",
    "\n",
    "X_train5, X_test5, y_train5, y_test5 = train_test_split(X5, y5, random_state=1)\n",
    "\n",
    "knn5 = KNeighborsClassifier(n_neighbors=5, metric='euclidean')\n",
    "knn4.fit(X_train5, y_train5)\n",
    "\n",
    "y_pred5 = knn4.predict(X_test5)\n",
    "\n",
    "cf_matrix5 = confusion_matrix(y_test5, y_pred5)\n",
    "cf_matrix5\n",
    "\n",
    "print(cf_matrix5)\n",
    "\n",
    "accuracy_score(y_test5, y_pred5)"
   ]
  },
  {
   "cell_type": "code",
   "execution_count": 20,
   "metadata": {},
   "outputs": [
    {
     "data": {
      "text/plain": [
       "<matplotlib.collections.PathCollection at 0x16135ae2388>"
      ]
     },
     "execution_count": 20,
     "metadata": {},
     "output_type": "execute_result"
    },
    {
     "data": {
      "image/png": "[encoded data removed]",
      "text/plain": [
       "<Figure size 432x288 with 1 Axes>"
      ]
     },
     "metadata": {},
     "output_type": "display_data"
    }
   ],
   "source": [
    "plt.scatter(\n",
    "    X_test['height'],\n",
    "    X_test['htn'],\n",
    "    #X_test['stroke'],\n",
    "    #X_test['dm'],\n",
    "    #X_test['stress'],\n",
    "    c=y_pred,\n",
    "    cmap='coolwarm',\n",
    "    alpha=0.7\n",
    ")"
   ]
  },
  {
   "cell_type": "code",
   "execution_count": 22,
   "metadata": {},
   "outputs": [
    {
     "data": {
      "image/png": "[encoded data removed]",
      "text/plain": [
       "<Figure size 432x288 with 2 Axes>"
      ]
     },
     "metadata": {},
     "output_type": "display_data"
    }
   ],
   "source": [
    "from sklearn.metrics import confusion_matrix\n",
    "from mlxtend.plotting import plot_confusion_matrix\n",
    "\n",
    "fig, ax = plot_confusion_matrix(conf_mat = cf_matrix5,\n",
    "                               show_absolute = True,\n",
    "                               show_normed = True, \n",
    "                               colorbar= True)"
   ]
  },
  {
   "cell_type": "code",
   "execution_count": null,
   "metadata": {},
   "outputs": [],
   "source": []
  }
 ],
 "metadata": {
  "kernelspec": {
   "display_name": "Python 3",
   "language": "python",
   "name": "python3"
  },
  "language_info": {
   "codemirror_mode": {
    "name": "ipython",
    "version": 3
   },
   "file_extension": ".py",
   "mimetype": "text/x-python",
   "name": "python",
   "nbconvert_exporter": "python",
   "pygments_lexer": "ipython3",
   "version": "3.7.4"
  }
 },
 "nbformat": 4,
 "nbformat_minor": 2
}
